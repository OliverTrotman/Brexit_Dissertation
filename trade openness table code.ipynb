{
 "cells": [
  {
   "cell_type": "code",
   "execution_count": 1,
   "metadata": {},
   "outputs": [
    {
     "name": "stdout",
     "output_type": "stream",
     "text": [
      "                Year  Trade (% of GDP)\n",
      "Country                               \n",
      "Austria         2010             99.02\n",
      "Belgium         2010            150.00\n",
      "France          2010             54.87\n",
      "Germany         2010             79.87\n",
      "Italy           2010             52.01\n",
      "Luxembourg      2010            293.67\n",
      "Malta           2010            301.84\n",
      "Slovakia        2010            153.45\n",
      "Spain           2010             52.93\n",
      "United Kingdom  2010             59.27\n"
     ]
    }
   ],
   "source": [
    "import pandas as pd\n",
    "\n",
    "# Load the dataset\n",
    "trade_data = pd.read_csv(r'C:\\Users\\olive\\OneDrive\\Documents\\University\\University Work\\Y3S1\\Dissertation\\Data\\trade-as-share-of-gdp.csv')\n",
    "\n",
    "# Filter for year 2010\n",
    "data_2010 = trade_data[trade_data['Year'] == 2010]\n",
    "\n",
    "# List of EU countries including the UK in 2010\n",
    "eu_countries = [\n",
    "    \"United Kingdom\", \"Spain\", \"Slovakia\", \"Malta\", \"Luxembourg\",\n",
    "    \"Germany\", \"Italy\", \"France\", \"Belgium\", \"Austria\"\n",
    "]\n",
    "\n",
    "# Filter the data for EU countries including the UK\n",
    "eu_data_2010 = data_2010[data_2010['Entity'].isin(eu_countries)]\n",
    "\n",
    "# Rename Entity to Country and remove Code column\n",
    "eu_data_2010 = eu_data_2010.rename(columns={\"Entity\": \"Country\"}).drop(columns=[\"Code\"])\n",
    "\n",
    "# Set the index to Country\n",
    "eu_data_2010 = eu_data_2010.set_index(\"Country\")\n",
    "\n",
    "eu_data_2010[\"Trade (% of GDP)\"] = eu_data_2010[\"Trade (% of GDP)\"].round(2)\n",
    "# Display the final table\n",
    "print(eu_data_2010)\n",
    "\n",
    "eu_data_2010.to_excel('./EU_trade_data_2010.xlsx')"
   ]
  }
 ],
 "metadata": {
  "kernelspec": {
   "display_name": "base",
   "language": "python",
   "name": "python3"
  },
  "language_info": {
   "codemirror_mode": {
    "name": "ipython",
    "version": 3
   },
   "file_extension": ".py",
   "mimetype": "text/x-python",
   "name": "python",
   "nbconvert_exporter": "python",
   "pygments_lexer": "ipython3",
   "version": "3.12.4"
  }
 },
 "nbformat": 4,
 "nbformat_minor": 2
}
